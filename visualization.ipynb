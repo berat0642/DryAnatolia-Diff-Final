{
  "cells": [
    {
      "cell_type": "markdown",
      "metadata": {},
      "source": [
        "# DryAnatolia-Diff \u2013 Kurakl\u0131k Haritas\u0131 G\u00f6rselle\u015ftirme\n",
        "Bu notebook, .nc dosyas\u0131ndaki DSI (Drought Severity Index) verilerini kullanarak harita olu\u015fturur."
      ]
    },
    {
      "cell_type": "code",
      "execution_count": null,
      "metadata": {},
      "outputs": [],
      "source": [
        "import xarray as xr\n",
        "import matplotlib.pyplot as plt\n",
        "\n",
        "# NetCDF verisini y\u00fckle\n",
        "ds = xr.open_dataset('../data/dryanatolia_sample_grid_2023.nc')\n",
        "\n",
        "# Belirli bir ay\u0131 se\u00e7\n",
        "month = '2023-07'\n",
        "dsi = ds.DSI.sel(time=month)\n",
        "\n",
        "# Harita \u00e7iz\n",
        "plt.figure(figsize=(6, 4))\n",
        "dsi.plot(cmap='coolwarm', vmin=-3, vmax=3)\n",
        "plt.title(f'Kurakl\u0131k \u015eiddeti \u0130ndeksi \u2013 {month}')\n",
        "plt.xlabel('Boylam')\n",
        "plt.ylabel('Enlem')\n",
        "plt.tight_layout()\n",
        "plt.show()"
      ]
    }
  ],
  "metadata": {
    "kernelspec": {
      "display_name": "Python 3",
      "language": "python",
      "name": "python3"
    },
    "language_info": {
      "name": "python",
      "version": "3.9"
    }
  },
  "nbformat": 4,
  "nbformat_minor": 5
}